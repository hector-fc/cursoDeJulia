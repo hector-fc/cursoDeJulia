{
 "cells": [
  {
   "cell_type": "markdown",
   "metadata": {},
   "source": [
    "# Julia:  Condicionais, repetições e funções \n",
    " - Built-in function input\n",
    " - Condicionais \n",
    " - Repetição: for \n",
    " - Repetição: While \n",
    " - Funções \n",
    " - Função Fatorial \n",
    " - Escopo \n",
    " - File I/O"
   ]
  },
  {
   "cell_type": "markdown",
   "metadata": {},
   "source": [
    "## Built-in function input\n",
    "Antes de estudar condicionais, veremos alguns exemplos de built-in functions."
   ]
  },
  {
   "cell_type": "code",
   "execution_count": 1,
   "metadata": {},
   "outputs": [
    {
     "name": "stdout",
     "output_type": "stream",
     "text": [
      "Qual  é seu nome: \n",
      "stdin> hector\n",
      "Qual é sua idade\n",
      "stdin> 20\n",
      "idade: 20\n"
     ]
    }
   ],
   "source": [
    "println(\"Qual  é seu nome: \")\n",
    "name = readline()\n",
    "println(\"Qual é sua idade\")\n",
    "idade = readline()\n",
    "println(\"idade: \",idade)\n",
    "\n"
   ]
  },
  {
   "cell_type": "markdown",
   "metadata": {},
   "source": [
    "## Condicionais \n",
    "Condicionais servem para controlar o fluxo do programa. Em outras palavras, partes do código só serão executadas se determinada condição, de valor booleano, for verdadeira. Vejamos um exemplo"
   ]
  },
  {
   "cell_type": "code",
   "execution_count": 2,
   "metadata": {},
   "outputs": [
    {
     "name": "stdout",
     "output_type": "stream",
     "text": [
      "Ola ! \n"
     ]
    }
   ],
   "source": [
    "expr = true\n",
    "if expr \n",
    "    println(\"Ola ! \")\n",
    "end"
   ]
  },
  {
   "cell_type": "markdown",
   "metadata": {},
   "source": [
    "## Aplicação \n",
    "\n",
    "Um excelente site para praticar seus conhecimentos em Python é o Uri Online. Durante os tutoriais daremos vários exemplos baseados nesse site.\n",
    "\n",
    "Na seção de iniciantes, o problema 1044 pede para você verificar se dois números, passados por um usuário, são múltiplos ou não. O usuário entra com dois números inteiros, numa única linha e separados por um único espaço"
   ]
  },
  {
   "cell_type": "code",
   "execution_count": 3,
   "metadata": {},
   "outputs": [
    {
     "name": "stdout",
     "output_type": "stream",
     "text": [
      "stdin> 3 4 \n"
     ]
    },
    {
     "data": {
      "text/plain": [
       "\"3 4 \""
      ]
     },
     "execution_count": 3,
     "metadata": {},
     "output_type": "execute_result"
    }
   ],
   "source": [
    "entrada = readline() "
   ]
  },
  {
   "cell_type": "code",
   "execution_count": 4,
   "metadata": {},
   "outputs": [
    {
     "data": {
      "text/plain": [
       "3-element Vector{SubString{String}}:\n",
       " \"3\"\n",
       " \"4\"\n",
       " \"\""
      ]
     },
     "execution_count": 4,
     "metadata": {},
     "output_type": "execute_result"
    }
   ],
   "source": [
    "snum = split(entrada,\" \")"
   ]
  },
  {
   "cell_type": "code",
   "execution_count": 5,
   "metadata": {},
   "outputs": [
    {
     "data": {
      "text/plain": [
       "2-element Vector{Int64}:\n",
       " 3\n",
       " 4"
      ]
     },
     "execution_count": 5,
     "metadata": {},
     "output_type": "execute_result"
    }
   ],
   "source": [
    "num = [parse(Int64,snum[1]), parse(Int64,snum[2])] "
   ]
  },
  {
   "cell_type": "code",
   "execution_count": 6,
   "metadata": {},
   "outputs": [
    {
     "name": "stdout",
     "output_type": "stream",
     "text": [
      "Não são multiplos\n"
     ]
    }
   ],
   "source": [
    "if mod(num[1],num[2])==0\n",
    "    println(\"São multiplos\")\n",
    "else \n",
    "    println(\"Não são multiplos\")\n",
    "end"
   ]
  },
  {
   "cell_type": "markdown",
   "metadata": {},
   "source": [
    "## Repitição FOR\n",
    "Algumas vezes, uma mesma sequência de comandos deve ser executada diversas vezes. Para fazer isso utilizamos estruturas de repetição. Observe o código:"
   ]
  },
  {
   "cell_type": "code",
   "execution_count": 7,
   "metadata": {},
   "outputs": [
    {
     "name": "stdout",
     "output_type": "stream",
     "text": [
      "9\n"
     ]
    }
   ],
   "source": [
    "x = 1 \n",
    "x = x + 2\n",
    "x = x + 2 \n",
    "x = x + 2 \n",
    "x = x + 2 \n",
    "println(x)"
   ]
  },
  {
   "cell_type": "code",
   "execution_count": 8,
   "metadata": {},
   "outputs": [
    {
     "name": "stdout",
     "output_type": "stream",
     "text": [
      "9\n"
     ]
    }
   ],
   "source": [
    "x = 1 \n",
    "for i in [1,2,3,4]\n",
    "    x = x + 2     \n",
    "end\n",
    "println(x)"
   ]
  },
  {
   "cell_type": "markdown",
   "metadata": {},
   "source": [
    "## range\n",
    "O comum é utilizar a função range. Vejamos alguns exemplos de uso da função:"
   ]
  },
  {
   "cell_type": "code",
   "execution_count": null,
   "metadata": {},
   "outputs": [],
   "source": []
  },
  {
   "cell_type": "code",
   "execution_count": null,
   "metadata": {},
   "outputs": [],
   "source": []
  },
  {
   "cell_type": "code",
   "execution_count": null,
   "metadata": {},
   "outputs": [],
   "source": []
  },
  {
   "cell_type": "code",
   "execution_count": 9,
   "metadata": {},
   "outputs": [
    {
     "data": {
      "text/plain": [
       "1:2:11"
      ]
     },
     "execution_count": 9,
     "metadata": {},
     "output_type": "execute_result"
    }
   ],
   "source": [
    "x = 1:2:11"
   ]
  },
  {
   "cell_type": "code",
   "execution_count": 10,
   "metadata": {},
   "outputs": [
    {
     "data": {
      "text/plain": [
       "StepRange{Int64, Int64}"
      ]
     },
     "execution_count": 10,
     "metadata": {},
     "output_type": "execute_result"
    }
   ],
   "source": [
    "typeof(x)"
   ]
  },
  {
   "cell_type": "markdown",
   "metadata": {},
   "source": [
    "##  Practicando \n",
    "O problema número 1067 da seção iniciante pede para imprimir os números ímpares de 1 até X, inclusive X (se for o caso), com X sendo um número inteiro de 1 a 1000 recebido como entrada de um usuário."
   ]
  },
  {
   "cell_type": "code",
   "execution_count": 11,
   "metadata": {},
   "outputs": [
    {
     "name": "stdout",
     "output_type": "stream",
     "text": [
      "stdin> 5\n",
      "1\n",
      "3\n",
      "5\n"
     ]
    }
   ],
   "source": [
    "entrada = readline() \n",
    "num = parse(Int64,entrada) \n",
    "typeof(num)\n",
    "for i in 1:num\n",
    "    expr = (mod(i,2)==1)\n",
    "    if expr\n",
    "        println(i)\n",
    "    end\n",
    "end"
   ]
  },
  {
   "cell_type": "markdown",
   "metadata": {},
   "source": [
    "## Repitição: while "
   ]
  },
  {
   "cell_type": "code",
   "execution_count": 12,
   "metadata": {},
   "outputs": [
    {
     "name": "stdout",
     "output_type": "stream",
     "text": [
      "9\n"
     ]
    }
   ],
   "source": [
    "x = 1 \n",
    "x = x + 2\n",
    "x = x + 2 \n",
    "x = x + 2 \n",
    "x = x + 2 \n",
    "println(x)"
   ]
  },
  {
   "cell_type": "code",
   "execution_count": 13,
   "metadata": {},
   "outputs": [
    {
     "name": "stdout",
     "output_type": "stream",
     "text": [
      "x= 15\n"
     ]
    }
   ],
   "source": [
    "x = 1; i = 2\n",
    "expr = (i<6)\n",
    "while expr\n",
    "    x = x + i\n",
    "    i = i + 1\n",
    "    expr =(i<6)\n",
    "end\n",
    "println(\"x= \",x)"
   ]
  },
  {
   "cell_type": "code",
   "execution_count": 14,
   "metadata": {},
   "outputs": [
    {
     "name": "stdout",
     "output_type": "stream",
     "text": [
      "stdin> 5\n",
      "1\n",
      "3\n",
      "5\n"
     ]
    }
   ],
   "source": [
    "entrada = readline() \n",
    "num = parse(Int64,entrada) \n",
    "i = 1\n",
    "expr =  (i<=num)\n",
    "while expr\n",
    "    expr1 = (mod(i,2)==1)\n",
    "    if expr1\n",
    "        println(i)\n",
    "    end\n",
    "    i = i + 1 \n",
    "    expr =  (i<=num)\n",
    "end"
   ]
  },
  {
   "cell_type": "markdown",
   "metadata": {},
   "source": [
    "## Funções \n",
    "Funções são utilizadas para agrupar uma série de comandos na intenção de reutilizálos. Por exemplo, se você quer saber se três variáveis X, Y e Z têm valores inteiros pares, uma opção seria:"
   ]
  },
  {
   "cell_type": "code",
   "execution_count": 15,
   "metadata": {},
   "outputs": [
    {
     "name": "stdout",
     "output_type": "stream",
     "text": [
      "ImparParPar"
     ]
    }
   ],
   "source": [
    "X = 7\n",
    "if mod(X,2) == 0\n",
    "    println(\"Par\")\n",
    "else\n",
    "    print(\"Impar\")\n",
    "end\n",
    "\n",
    "Y = 2 \n",
    "if mod(Y,2) == 0\n",
    "    print(\"Par\")\n",
    "else\n",
    "    print(\"Impar\")\n",
    "end\n",
    "\n",
    "Z = 42\n",
    "if mod(Z,2) == 0\n",
    "    print(\"Par\")\n",
    "else\n",
    "    print(\"Impar\")\n",
    "end"
   ]
  },
  {
   "cell_type": "code",
   "execution_count": 16,
   "metadata": {},
   "outputs": [
    {
     "data": {
      "text/plain": [
       "isPar (generic function with 1 method)"
      ]
     },
     "execution_count": 16,
     "metadata": {},
     "output_type": "execute_result"
    }
   ],
   "source": [
    "function isPar(var)\n",
    "    if mod(var,2)==0\n",
    "        println(\"Par\")\n",
    "    else\n",
    "        println(\"impar\")\n",
    "    end\n",
    "end\n"
   ]
  },
  {
   "cell_type": "code",
   "execution_count": 17,
   "metadata": {},
   "outputs": [
    {
     "name": "stdout",
     "output_type": "stream",
     "text": [
      "impar\n",
      "Par\n",
      "Par\n"
     ]
    }
   ],
   "source": [
    "isPar(X)\n",
    "isPar(Y)\n",
    "isPar(Z)"
   ]
  },
  {
   "cell_type": "markdown",
   "metadata": {},
   "source": [
    "## Função Fatorial \n",
    "Esta seção tem o objetivo de praticar quase tudo visto nesse tutorial. Para isso criaremos uma função, chamada fatorial, que retorna o fatorial de um número n dado como parâmetro de entrada da função."
   ]
  },
  {
   "cell_type": "code",
   "execution_count": 18,
   "metadata": {},
   "outputs": [
    {
     "data": {
      "text/plain": [
       "fatorial (generic function with 1 method)"
      ]
     },
     "execution_count": 18,
     "metadata": {},
     "output_type": "execute_result"
    }
   ],
   "source": [
    "function fatorial(n)\n",
    "    if n == 0\n",
    "        return 1 \n",
    "    elseif n==1\n",
    "        return 1 \n",
    "    else\n",
    "        resultado = 1 \n",
    "        for i in 1:n\n",
    "            resultado=resultado*i\n",
    "        end    \n",
    "        return resultado        \n",
    "    end        \n",
    "end   "
   ]
  },
  {
   "cell_type": "code",
   "execution_count": 19,
   "metadata": {},
   "outputs": [
    {
     "data": {
      "text/plain": [
       "1"
      ]
     },
     "execution_count": 19,
     "metadata": {},
     "output_type": "execute_result"
    }
   ],
   "source": [
    "fatorial(0)"
   ]
  },
  {
   "cell_type": "code",
   "execution_count": 20,
   "metadata": {},
   "outputs": [
    {
     "data": {
      "text/plain": [
       "120"
      ]
     },
     "execution_count": 20,
     "metadata": {},
     "output_type": "execute_result"
    }
   ],
   "source": [
    "fatorial(5)"
   ]
  },
  {
   "cell_type": "markdown",
   "metadata": {},
   "source": [
    "# Divisão Euclidiana \n",
    "\n",
    "----------------\n",
    "**Teorema** \n",
    "Dados $a$ e $b$ positivos, com $a>b$  então existe $q,r\\in\\mathbb{Z}$ tal que  $a = bq+r$ e \n",
    "$mdc(a,b)=mdc(b,r)$\n",
    "----------------\n",
    "\n",
    "\n",
    "\n",
    "\n",
    "## Algoritmo de euclides \n",
    "Dados $a,b$ com $a>b$ \n",
    "1. Calcular $q,r\\in \\mathbb{Z}$  tal que  $a = bq+r$.\n",
    "2. Se $r=0$, parar. mdc(a,b)=b \n",
    "3. Fazer $a=b, b=r$ e voltar ao primer passo 1\n",
    "\n"
   ]
  },
  {
   "cell_type": "code",
   "execution_count": 21,
   "metadata": {},
   "outputs": [
    {
     "name": "stdout",
     "output_type": "stream",
     "text": [
      "  322 =    72 x     4 +    34\n"
     ]
    },
    {
     "data": {
      "text/plain": [
       "(72, 34)"
      ]
     },
     "execution_count": 21,
     "metadata": {},
     "output_type": "execute_result"
    }
   ],
   "source": [
    "using Printf\n",
    "\n",
    "a = 322\n",
    "b = 72\n",
    "\n",
    "q = Int(floor(a/b)) \n",
    "r = a - b*q\n",
    "@printf(\"%5i = %5i x %5i + %5i\\n\",a,b,q,r)\n",
    "a,b=b,r "
   ]
  },
  {
   "cell_type": "code",
   "execution_count": 22,
   "metadata": {},
   "outputs": [
    {
     "name": "stdout",
     "output_type": "stream",
     "text": [
      "   32 =    12 x     2 +     8\n",
      "   12 =     8 x     1 +     4\n",
      "    8 =     4 x     2 +     0\n",
      "O máximo divisor comum é:     4"
     ]
    }
   ],
   "source": [
    "a = 32\n",
    "b = 12\n",
    "while true \n",
    "    q = Int(floor(a/b)) \n",
    "    r = a - b*q\n",
    "    @printf(\"%5i = %5i x %5i + %5i\\n\",a,b,q,r)\n",
    "    if r==0\n",
    "        @printf(\"O máximo divisor comum é: %5i\",b)\n",
    "        break\n",
    "    end\n",
    "    a,b=b,r \n",
    "end"
   ]
  },
  {
   "cell_type": "code",
   "execution_count": 23,
   "metadata": {},
   "outputs": [
    {
     "data": {
      "text/plain": [
       "2"
      ]
     },
     "execution_count": 23,
     "metadata": {},
     "output_type": "execute_result"
    }
   ],
   "source": [
    "function mdc1(a,b)     \n",
    "    if (a<b) a,b= b,a end \n",
    "    if (a%b == 0)  return b else  mdc1(b,a%b)  end           \n",
    "end \n",
    "\n",
    "mdc1(6,10)"
   ]
  },
  {
   "cell_type": "code",
   "execution_count": 24,
   "metadata": {},
   "outputs": [
    {
     "data": {
      "text/plain": [
       "mdc2 (generic function with 1 method)"
      ]
     },
     "execution_count": 24,
     "metadata": {},
     "output_type": "execute_result"
    }
   ],
   "source": [
    "mdc2(a,b)= (a%b==0 ? b : mdc2(b,a%b))"
   ]
  },
  {
   "cell_type": "code",
   "execution_count": 25,
   "metadata": {},
   "outputs": [
    {
     "data": {
      "text/plain": [
       "4"
      ]
     },
     "execution_count": 25,
     "metadata": {},
     "output_type": "execute_result"
    }
   ],
   "source": [
    "mdc2(32,12)"
   ]
  },
  {
   "cell_type": "code",
   "execution_count": 26,
   "metadata": {},
   "outputs": [
    {
     "data": {
      "text/plain": [
       "16"
      ]
     },
     "execution_count": 26,
     "metadata": {},
     "output_type": "execute_result"
    }
   ],
   "source": [
    "function phiE(n)\n",
    "    sum = 0 \n",
    "    for i in 1:n\n",
    "        if mdc2(i,n)== 1\n",
    "           sum+=1 \n",
    "        end \n",
    "    end    \n",
    "    return sum \n",
    "end\n",
    "\n",
    "phiE(17)"
   ]
  },
  {
   "cell_type": "code",
   "execution_count": 27,
   "metadata": {},
   "outputs": [],
   "source": [
    "using Plots "
   ]
  },
  {
   "cell_type": "code",
   "execution_count": 28,
   "metadata": {},
   "outputs": [
    {
     "data": {
      "image/svg+xml": [
       "<?xml version=\"1.0\" encoding=\"utf-8\"?>\n",
       "<svg xmlns=\"http://www.w3.org/2000/svg\" xmlns:xlink=\"http://www.w3.org/1999/xlink\" width=\"600\" height=\"400\" viewBox=\"0 0 2400 1600\">\n",
       "<defs>\n",
       "  <clipPath id=\"clip470\">\n",
       "    <rect x=\"0\" y=\"0\" width=\"2400\" height=\"1600\"/>\n",
       "  </clipPath>\n",
       "</defs>\n",
       "<path clip-path=\"url(#clip470)\" d=\"\n",
       "M0 1600 L2400 1600 L2400 0 L0 0  Z\n",
       "  \" fill=\"#ffffff\" fill-rule=\"evenodd\" fill-opacity=\"1\"/>\n",
       "<defs>\n",
       "  <clipPath id=\"clip471\">\n",
       "    <rect x=\"480\" y=\"0\" width=\"1681\" height=\"1600\"/>\n",
       "  </clipPath>\n",
       "</defs>\n",
       "<path clip-path=\"url(#clip470)\" d=\"\n",
       "M169.121 1486.45 L2352.76 1486.45 L2352.76 47.2441 L169.121 47.2441  Z\n",
       "  \" fill=\"#ffffff\" fill-rule=\"evenodd\" fill-opacity=\"1\"/>\n",
       "<defs>\n",
       "  <clipPath id=\"clip472\">\n",
       "    <rect x=\"169\" y=\"47\" width=\"2185\" height=\"1440\"/>\n",
       "  </clipPath>\n",
       "</defs>\n",
       "<polyline clip-path=\"url(#clip472)\" style=\"stroke:#000000; stroke-linecap:round; stroke-linejoin:round; stroke-width:2; stroke-opacity:0.1; fill:none\" points=\"\n",
       "  210.114,1486.45 210.114,47.2441 \n",
       "  \"/>\n",
       "<polyline clip-path=\"url(#clip472)\" style=\"stroke:#000000; stroke-linecap:round; stroke-linejoin:round; stroke-width:2; stroke-opacity:0.1; fill:none\" points=\"\n",
       "  730.324,1486.45 730.324,47.2441 \n",
       "  \"/>\n",
       "<polyline clip-path=\"url(#clip472)\" style=\"stroke:#000000; stroke-linecap:round; stroke-linejoin:round; stroke-width:2; stroke-opacity:0.1; fill:none\" points=\"\n",
       "  1250.53,1486.45 1250.53,47.2441 \n",
       "  \"/>\n",
       "<polyline clip-path=\"url(#clip472)\" style=\"stroke:#000000; stroke-linecap:round; stroke-linejoin:round; stroke-width:2; stroke-opacity:0.1; fill:none\" points=\"\n",
       "  1770.74,1486.45 1770.74,47.2441 \n",
       "  \"/>\n",
       "<polyline clip-path=\"url(#clip472)\" style=\"stroke:#000000; stroke-linecap:round; stroke-linejoin:round; stroke-width:2; stroke-opacity:0.1; fill:none\" points=\"\n",
       "  2290.95,1486.45 2290.95,47.2441 \n",
       "  \"/>\n",
       "<polyline clip-path=\"url(#clip470)\" style=\"stroke:#000000; stroke-linecap:round; stroke-linejoin:round; stroke-width:4; stroke-opacity:1; fill:none\" points=\"\n",
       "  169.121,1486.45 2352.76,1486.45 \n",
       "  \"/>\n",
       "<polyline clip-path=\"url(#clip470)\" style=\"stroke:#000000; stroke-linecap:round; stroke-linejoin:round; stroke-width:4; stroke-opacity:1; fill:none\" points=\"\n",
       "  210.114,1486.45 210.114,1467.55 \n",
       "  \"/>\n",
       "<polyline clip-path=\"url(#clip470)\" style=\"stroke:#000000; stroke-linecap:round; stroke-linejoin:round; stroke-width:4; stroke-opacity:1; fill:none\" points=\"\n",
       "  730.324,1486.45 730.324,1467.55 \n",
       "  \"/>\n",
       "<polyline clip-path=\"url(#clip470)\" style=\"stroke:#000000; stroke-linecap:round; stroke-linejoin:round; stroke-width:4; stroke-opacity:1; fill:none\" points=\"\n",
       "  1250.53,1486.45 1250.53,1467.55 \n",
       "  \"/>\n",
       "<polyline clip-path=\"url(#clip470)\" style=\"stroke:#000000; stroke-linecap:round; stroke-linejoin:round; stroke-width:4; stroke-opacity:1; fill:none\" points=\"\n",
       "  1770.74,1486.45 1770.74,1467.55 \n",
       "  \"/>\n",
       "<polyline clip-path=\"url(#clip470)\" style=\"stroke:#000000; stroke-linecap:round; stroke-linejoin:round; stroke-width:4; stroke-opacity:1; fill:none\" points=\"\n",
       "  2290.95,1486.45 2290.95,1467.55 \n",
       "  \"/>\n",
       "<path clip-path=\"url(#clip470)\" d=\"M210.114 1517.37 Q206.503 1517.37 204.674 1520.93 Q202.869 1524.47 202.869 1531.6 Q202.869 1538.71 204.674 1542.27 Q206.503 1545.82 210.114 1545.82 Q213.748 1545.82 215.554 1542.27 Q217.382 1538.71 217.382 1531.6 Q217.382 1524.47 215.554 1520.93 Q213.748 1517.37 210.114 1517.37 M210.114 1513.66 Q215.924 1513.66 218.98 1518.27 Q222.058 1522.85 222.058 1531.6 Q222.058 1540.33 218.98 1544.94 Q215.924 1549.52 210.114 1549.52 Q204.304 1549.52 201.225 1544.94 Q198.17 1540.33 198.17 1531.6 Q198.17 1522.85 201.225 1518.27 Q204.304 1513.66 210.114 1513.66 Z\" fill=\"#000000\" fill-rule=\"evenodd\" fill-opacity=\"1\" /><path clip-path=\"url(#clip470)\" d=\"M709.595 1544.91 L725.914 1544.91 L725.914 1548.85 L703.97 1548.85 L703.97 1544.91 Q706.632 1542.16 711.215 1537.53 Q715.822 1532.88 717.002 1531.53 Q719.248 1529.01 720.127 1527.27 Q721.03 1525.51 721.03 1523.82 Q721.03 1521.07 719.086 1519.33 Q717.164 1517.6 714.063 1517.6 Q711.864 1517.6 709.41 1518.36 Q706.979 1519.13 704.202 1520.68 L704.202 1515.95 Q707.026 1514.82 709.479 1514.24 Q711.933 1513.66 713.97 1513.66 Q719.34 1513.66 722.535 1516.35 Q725.729 1519.03 725.729 1523.52 Q725.729 1525.65 724.919 1527.57 Q724.132 1529.47 722.026 1532.07 Q721.447 1532.74 718.345 1535.95 Q715.243 1539.15 709.595 1544.91 Z\" fill=\"#000000\" fill-rule=\"evenodd\" fill-opacity=\"1\" /><path clip-path=\"url(#clip470)\" d=\"M735.776 1514.29 L754.132 1514.29 L754.132 1518.22 L740.058 1518.22 L740.058 1526.7 Q741.076 1526.35 742.095 1526.19 Q743.113 1526 744.132 1526 Q749.919 1526 753.299 1529.17 Q756.678 1532.34 756.678 1537.76 Q756.678 1543.34 753.206 1546.44 Q749.734 1549.52 743.414 1549.52 Q741.238 1549.52 738.97 1549.15 Q736.725 1548.78 734.317 1548.04 L734.317 1543.34 Q736.401 1544.47 738.623 1545.03 Q740.845 1545.58 743.322 1545.58 Q747.326 1545.58 749.664 1543.48 Q752.002 1541.37 752.002 1537.76 Q752.002 1534.15 749.664 1532.04 Q747.326 1529.94 743.322 1529.94 Q741.447 1529.94 739.572 1530.35 Q737.72 1530.77 735.776 1531.65 L735.776 1514.29 Z\" fill=\"#000000\" fill-rule=\"evenodd\" fill-opacity=\"1\" /><path clip-path=\"url(#clip470)\" d=\"M1225.23 1514.29 L1243.59 1514.29 L1243.59 1518.22 L1229.52 1518.22 L1229.52 1526.7 Q1230.53 1526.35 1231.55 1526.19 Q1232.57 1526 1233.59 1526 Q1239.38 1526 1242.76 1529.17 Q1246.14 1532.34 1246.14 1537.76 Q1246.14 1543.34 1242.66 1546.44 Q1239.19 1549.52 1232.87 1549.52 Q1230.7 1549.52 1228.43 1549.15 Q1226.18 1548.78 1223.78 1548.04 L1223.78 1543.34 Q1225.86 1544.47 1228.08 1545.03 Q1230.3 1545.58 1232.78 1545.58 Q1236.78 1545.58 1239.12 1543.48 Q1241.46 1541.37 1241.46 1537.76 Q1241.46 1534.15 1239.12 1532.04 Q1236.78 1529.94 1232.78 1529.94 Q1230.9 1529.94 1229.03 1530.35 Q1227.18 1530.77 1225.23 1531.65 L1225.23 1514.29 Z\" fill=\"#000000\" fill-rule=\"evenodd\" fill-opacity=\"1\" /><path clip-path=\"url(#clip470)\" d=\"M1265.35 1517.37 Q1261.74 1517.37 1259.91 1520.93 Q1258.1 1524.47 1258.1 1531.6 Q1258.1 1538.71 1259.91 1542.27 Q1261.74 1545.82 1265.35 1545.82 Q1268.98 1545.82 1270.79 1542.27 Q1272.62 1538.71 1272.62 1531.6 Q1272.62 1524.47 1270.79 1520.93 Q1268.98 1517.37 1265.35 1517.37 M1265.35 1513.66 Q1271.16 1513.66 1274.21 1518.27 Q1277.29 1522.85 1277.29 1531.6 Q1277.29 1540.33 1274.21 1544.94 Q1271.16 1549.52 1265.35 1549.52 Q1259.54 1549.52 1256.46 1544.94 Q1253.4 1540.33 1253.4 1531.6 Q1253.4 1522.85 1256.46 1518.27 Q1259.54 1513.66 1265.35 1513.66 Z\" fill=\"#000000\" fill-rule=\"evenodd\" fill-opacity=\"1\" /><path clip-path=\"url(#clip470)\" d=\"M1744.6 1514.29 L1766.82 1514.29 L1766.82 1516.28 L1754.27 1548.85 L1749.39 1548.85 L1761.2 1518.22 L1744.6 1518.22 L1744.6 1514.29 Z\" fill=\"#000000\" fill-rule=\"evenodd\" fill-opacity=\"1\" /><path clip-path=\"url(#clip470)\" d=\"M1775.99 1514.29 L1794.34 1514.29 L1794.34 1518.22 L1780.27 1518.22 L1780.27 1526.7 Q1781.29 1526.35 1782.31 1526.19 Q1783.33 1526 1784.34 1526 Q1790.13 1526 1793.51 1529.17 Q1796.89 1532.34 1796.89 1537.76 Q1796.89 1543.34 1793.42 1546.44 Q1789.95 1549.52 1783.63 1549.52 Q1781.45 1549.52 1779.18 1549.15 Q1776.94 1548.78 1774.53 1548.04 L1774.53 1543.34 Q1776.61 1544.47 1778.83 1545.03 Q1781.06 1545.58 1783.53 1545.58 Q1787.54 1545.58 1789.88 1543.48 Q1792.21 1541.37 1792.21 1537.76 Q1792.21 1534.15 1789.88 1532.04 Q1787.54 1529.94 1783.53 1529.94 Q1781.66 1529.94 1779.78 1530.35 Q1777.93 1530.77 1775.99 1531.65 L1775.99 1514.29 Z\" fill=\"#000000\" fill-rule=\"evenodd\" fill-opacity=\"1\" /><path clip-path=\"url(#clip470)\" d=\"M2250.56 1544.91 L2258.2 1544.91 L2258.2 1518.55 L2249.89 1520.21 L2249.89 1515.95 L2258.15 1514.29 L2262.83 1514.29 L2262.83 1544.91 L2270.47 1544.91 L2270.47 1548.85 L2250.56 1548.85 L2250.56 1544.91 Z\" fill=\"#000000\" fill-rule=\"evenodd\" fill-opacity=\"1\" /><path clip-path=\"url(#clip470)\" d=\"M2289.91 1517.37 Q2286.3 1517.37 2284.47 1520.93 Q2282.67 1524.47 2282.67 1531.6 Q2282.67 1538.71 2284.47 1542.27 Q2286.3 1545.82 2289.91 1545.82 Q2293.55 1545.82 2295.35 1542.27 Q2297.18 1538.71 2297.18 1531.6 Q2297.18 1524.47 2295.35 1520.93 Q2293.55 1517.37 2289.91 1517.37 M2289.91 1513.66 Q2295.72 1513.66 2298.78 1518.27 Q2301.86 1522.85 2301.86 1531.6 Q2301.86 1540.33 2298.78 1544.94 Q2295.72 1549.52 2289.91 1549.52 Q2284.1 1549.52 2281.02 1544.94 Q2277.97 1540.33 2277.97 1531.6 Q2277.97 1522.85 2281.02 1518.27 Q2284.1 1513.66 2289.91 1513.66 Z\" fill=\"#000000\" fill-rule=\"evenodd\" fill-opacity=\"1\" /><path clip-path=\"url(#clip470)\" d=\"M2320.08 1517.37 Q2316.46 1517.37 2314.64 1520.93 Q2312.83 1524.47 2312.83 1531.6 Q2312.83 1538.71 2314.64 1542.27 Q2316.46 1545.82 2320.08 1545.82 Q2323.71 1545.82 2325.51 1542.27 Q2327.34 1538.71 2327.34 1531.6 Q2327.34 1524.47 2325.51 1520.93 Q2323.71 1517.37 2320.08 1517.37 M2320.08 1513.66 Q2325.89 1513.66 2328.94 1518.27 Q2332.02 1522.85 2332.02 1531.6 Q2332.02 1540.33 2328.94 1544.94 Q2325.89 1549.52 2320.08 1549.52 Q2314.26 1549.52 2311.19 1544.94 Q2308.13 1540.33 2308.13 1531.6 Q2308.13 1522.85 2311.19 1518.27 Q2314.26 1513.66 2320.08 1513.66 Z\" fill=\"#000000\" fill-rule=\"evenodd\" fill-opacity=\"1\" /><polyline clip-path=\"url(#clip472)\" style=\"stroke:#000000; stroke-linecap:round; stroke-linejoin:round; stroke-width:2; stroke-opacity:0.1; fill:none\" points=\"\n",
       "  169.121,1459.43 2352.76,1459.43 \n",
       "  \"/>\n",
       "<polyline clip-path=\"url(#clip472)\" style=\"stroke:#000000; stroke-linecap:round; stroke-linejoin:round; stroke-width:2; stroke-opacity:0.1; fill:none\" points=\"\n",
       "  169.121,1116.57 2352.76,1116.57 \n",
       "  \"/>\n",
       "<polyline clip-path=\"url(#clip472)\" style=\"stroke:#000000; stroke-linecap:round; stroke-linejoin:round; stroke-width:2; stroke-opacity:0.1; fill:none\" points=\"\n",
       "  169.121,773.703 2352.76,773.703 \n",
       "  \"/>\n",
       "<polyline clip-path=\"url(#clip472)\" style=\"stroke:#000000; stroke-linecap:round; stroke-linejoin:round; stroke-width:2; stroke-opacity:0.1; fill:none\" points=\"\n",
       "  169.121,430.84 2352.76,430.84 \n",
       "  \"/>\n",
       "<polyline clip-path=\"url(#clip472)\" style=\"stroke:#000000; stroke-linecap:round; stroke-linejoin:round; stroke-width:2; stroke-opacity:0.1; fill:none\" points=\"\n",
       "  169.121,87.9763 2352.76,87.9763 \n",
       "  \"/>\n",
       "<polyline clip-path=\"url(#clip470)\" style=\"stroke:#000000; stroke-linecap:round; stroke-linejoin:round; stroke-width:4; stroke-opacity:1; fill:none\" points=\"\n",
       "  169.121,1486.45 169.121,47.2441 \n",
       "  \"/>\n",
       "<polyline clip-path=\"url(#clip470)\" style=\"stroke:#000000; stroke-linecap:round; stroke-linejoin:round; stroke-width:4; stroke-opacity:1; fill:none\" points=\"\n",
       "  169.121,1459.43 188.019,1459.43 \n",
       "  \"/>\n",
       "<polyline clip-path=\"url(#clip470)\" style=\"stroke:#000000; stroke-linecap:round; stroke-linejoin:round; stroke-width:4; stroke-opacity:1; fill:none\" points=\"\n",
       "  169.121,1116.57 188.019,1116.57 \n",
       "  \"/>\n",
       "<polyline clip-path=\"url(#clip470)\" style=\"stroke:#000000; stroke-linecap:round; stroke-linejoin:round; stroke-width:4; stroke-opacity:1; fill:none\" points=\"\n",
       "  169.121,773.703 188.019,773.703 \n",
       "  \"/>\n",
       "<polyline clip-path=\"url(#clip470)\" style=\"stroke:#000000; stroke-linecap:round; stroke-linejoin:round; stroke-width:4; stroke-opacity:1; fill:none\" points=\"\n",
       "  169.121,430.84 188.019,430.84 \n",
       "  \"/>\n",
       "<polyline clip-path=\"url(#clip470)\" style=\"stroke:#000000; stroke-linecap:round; stroke-linejoin:round; stroke-width:4; stroke-opacity:1; fill:none\" points=\"\n",
       "  169.121,87.9763 188.019,87.9763 \n",
       "  \"/>\n",
       "<path clip-path=\"url(#clip470)\" d=\"M121.177 1445.23 Q117.566 1445.23 115.737 1448.79 Q113.932 1452.34 113.932 1459.46 Q113.932 1466.57 115.737 1470.14 Q117.566 1473.68 121.177 1473.68 Q124.811 1473.68 126.617 1470.14 Q128.445 1466.57 128.445 1459.46 Q128.445 1452.34 126.617 1448.79 Q124.811 1445.23 121.177 1445.23 M121.177 1441.53 Q126.987 1441.53 130.043 1446.13 Q133.121 1450.72 133.121 1459.46 Q133.121 1468.19 130.043 1472.8 Q126.987 1477.38 121.177 1477.38 Q115.367 1477.38 112.288 1472.8 Q109.233 1468.19 109.233 1459.46 Q109.233 1450.72 112.288 1446.13 Q115.367 1441.53 121.177 1441.53 Z\" fill=\"#000000\" fill-rule=\"evenodd\" fill-opacity=\"1\" /><path clip-path=\"url(#clip470)\" d=\"M86.0382 1129.91 L102.358 1129.91 L102.358 1133.85 L80.4133 1133.85 L80.4133 1129.91 Q83.0753 1127.16 87.6586 1122.53 Q92.2651 1117.87 93.4456 1116.53 Q95.691 1114.01 96.5706 1112.27 Q97.4734 1110.51 97.4734 1108.82 Q97.4734 1106.07 95.5289 1104.33 Q93.6076 1102.6 90.5058 1102.6 Q88.3067 1102.6 85.8531 1103.36 Q83.4225 1104.12 80.6447 1105.68 L80.6447 1100.95 Q83.4688 1099.82 85.9225 1099.24 Q88.3762 1098.66 90.4132 1098.66 Q95.7836 1098.66 98.978 1101.35 Q102.172 1104.03 102.172 1108.52 Q102.172 1110.65 101.362 1112.57 Q100.575 1114.47 98.4687 1117.06 Q97.89 1117.74 94.7882 1120.95 Q91.6864 1124.15 86.0382 1129.91 Z\" fill=\"#000000\" fill-rule=\"evenodd\" fill-opacity=\"1\" /><path clip-path=\"url(#clip470)\" d=\"M112.219 1099.29 L130.575 1099.29 L130.575 1103.22 L116.501 1103.22 L116.501 1111.69 Q117.52 1111.35 118.538 1111.18 Q119.557 1111 120.575 1111 Q126.362 1111 129.742 1114.17 Q133.121 1117.34 133.121 1122.76 Q133.121 1128.34 129.649 1131.44 Q126.177 1134.52 119.857 1134.52 Q117.682 1134.52 115.413 1134.15 Q113.168 1133.78 110.76 1133.04 L110.76 1128.34 Q112.844 1129.47 115.066 1130.03 Q117.288 1130.58 119.765 1130.58 Q123.77 1130.58 126.107 1128.48 Q128.445 1126.37 128.445 1122.76 Q128.445 1119.15 126.107 1117.04 Q123.77 1114.93 119.765 1114.93 Q117.89 1114.93 116.015 1115.35 Q114.163 1115.77 112.219 1116.65 L112.219 1099.29 Z\" fill=\"#000000\" fill-rule=\"evenodd\" fill-opacity=\"1\" /><path clip-path=\"url(#clip470)\" d=\"M81.0614 756.423 L99.4178 756.423 L99.4178 760.358 L85.3438 760.358 L85.3438 768.831 Q86.3623 768.483 87.3808 768.321 Q88.3993 768.136 89.4178 768.136 Q95.2049 768.136 98.5845 771.307 Q101.964 774.479 101.964 779.895 Q101.964 785.474 98.4919 788.576 Q95.0197 791.655 88.7003 791.655 Q86.5243 791.655 84.2558 791.284 Q82.0105 790.914 79.6031 790.173 L79.6031 785.474 Q81.6864 786.608 83.9086 787.164 Q86.1308 787.719 88.6077 787.719 Q92.6123 787.719 94.9502 785.613 Q97.2882 783.506 97.2882 779.895 Q97.2882 776.284 94.9502 774.178 Q92.6123 772.071 88.6077 772.071 Q86.7327 772.071 84.8577 772.488 Q83.0058 772.905 81.0614 773.784 L81.0614 756.423 Z\" fill=\"#000000\" fill-rule=\"evenodd\" fill-opacity=\"1\" /><path clip-path=\"url(#clip470)\" d=\"M121.177 759.502 Q117.566 759.502 115.737 763.067 Q113.932 766.608 113.932 773.738 Q113.932 780.844 115.737 784.409 Q117.566 787.951 121.177 787.951 Q124.811 787.951 126.617 784.409 Q128.445 780.844 128.445 773.738 Q128.445 766.608 126.617 763.067 Q124.811 759.502 121.177 759.502 M121.177 755.798 Q126.987 755.798 130.043 760.405 Q133.121 764.988 133.121 773.738 Q133.121 782.465 130.043 787.071 Q126.987 791.655 121.177 791.655 Q115.367 791.655 112.288 787.071 Q109.233 782.465 109.233 773.738 Q109.233 764.988 112.288 760.405 Q115.367 755.798 121.177 755.798 Z\" fill=\"#000000\" fill-rule=\"evenodd\" fill-opacity=\"1\" /><path clip-path=\"url(#clip470)\" d=\"M80.8299 413.56 L103.052 413.56 L103.052 415.55 L90.5058 448.12 L85.6216 448.12 L97.4271 417.495 L80.8299 417.495 L80.8299 413.56 Z\" fill=\"#000000\" fill-rule=\"evenodd\" fill-opacity=\"1\" /><path clip-path=\"url(#clip470)\" d=\"M112.219 413.56 L130.575 413.56 L130.575 417.495 L116.501 417.495 L116.501 425.967 Q117.52 425.62 118.538 425.458 Q119.557 425.273 120.575 425.273 Q126.362 425.273 129.742 428.444 Q133.121 431.615 133.121 437.032 Q133.121 442.611 129.649 445.712 Q126.177 448.791 119.857 448.791 Q117.682 448.791 115.413 448.421 Q113.168 448.05 110.76 447.31 L110.76 442.611 Q112.844 443.745 115.066 444.3 Q117.288 444.856 119.765 444.856 Q123.77 444.856 126.107 442.749 Q128.445 440.643 128.445 437.032 Q128.445 433.421 126.107 431.314 Q123.77 429.208 119.765 429.208 Q117.89 429.208 116.015 429.624 Q114.163 430.041 112.219 430.921 L112.219 413.56 Z\" fill=\"#000000\" fill-rule=\"evenodd\" fill-opacity=\"1\" /><path clip-path=\"url(#clip470)\" d=\"M51.6634 101.321 L59.3023 101.321 L59.3023 74.9555 L50.9921 76.6222 L50.9921 72.3629 L59.256 70.6963 L63.9319 70.6963 L63.9319 101.321 L71.5707 101.321 L71.5707 105.256 L51.6634 105.256 L51.6634 101.321 Z\" fill=\"#000000\" fill-rule=\"evenodd\" fill-opacity=\"1\" /><path clip-path=\"url(#clip470)\" d=\"M91.0151 73.775 Q87.404 73.775 85.5753 77.3398 Q83.7697 80.8814 83.7697 88.011 Q83.7697 95.1174 85.5753 98.6822 Q87.404 102.224 91.0151 102.224 Q94.6493 102.224 96.4548 98.6822 Q98.2835 95.1174 98.2835 88.011 Q98.2835 80.8814 96.4548 77.3398 Q94.6493 73.775 91.0151 73.775 M91.0151 70.0713 Q96.8252 70.0713 99.8808 74.6777 Q102.959 79.261 102.959 88.011 Q102.959 96.7378 99.8808 101.344 Q96.8252 105.928 91.0151 105.928 Q85.2049 105.928 82.1262 101.344 Q79.0707 96.7378 79.0707 88.011 Q79.0707 79.261 82.1262 74.6777 Q85.2049 70.0713 91.0151 70.0713 Z\" fill=\"#000000\" fill-rule=\"evenodd\" fill-opacity=\"1\" /><path clip-path=\"url(#clip470)\" d=\"M121.177 73.775 Q117.566 73.775 115.737 77.3398 Q113.932 80.8814 113.932 88.011 Q113.932 95.1174 115.737 98.6822 Q117.566 102.224 121.177 102.224 Q124.811 102.224 126.617 98.6822 Q128.445 95.1174 128.445 88.011 Q128.445 80.8814 126.617 77.3398 Q124.811 73.775 121.177 73.775 M121.177 70.0713 Q126.987 70.0713 130.043 74.6777 Q133.121 79.261 133.121 88.011 Q133.121 96.7378 130.043 101.344 Q126.987 105.928 121.177 105.928 Q115.367 105.928 112.288 101.344 Q109.233 96.7378 109.233 88.011 Q109.233 79.261 112.288 74.6777 Q115.367 70.0713 121.177 70.0713 Z\" fill=\"#000000\" fill-rule=\"evenodd\" fill-opacity=\"1\" /><circle clip-path=\"url(#clip472)\" cx=\"230.922\" cy=\"1445.72\" r=\"14.4\" fill=\"#009af9\" fill-rule=\"evenodd\" fill-opacity=\"1\" stroke=\"#000000\" stroke-opacity=\"1\" stroke-width=\"3.2\"/>\n",
       "<circle clip-path=\"url(#clip472)\" cx=\"251.731\" cy=\"1445.72\" r=\"14.4\" fill=\"#009af9\" fill-rule=\"evenodd\" fill-opacity=\"1\" stroke=\"#000000\" stroke-opacity=\"1\" stroke-width=\"3.2\"/>\n",
       "<circle clip-path=\"url(#clip472)\" cx=\"272.539\" cy=\"1432\" r=\"14.4\" fill=\"#009af9\" fill-rule=\"evenodd\" fill-opacity=\"1\" stroke=\"#000000\" stroke-opacity=\"1\" stroke-width=\"3.2\"/>\n",
       "<circle clip-path=\"url(#clip472)\" cx=\"293.348\" cy=\"1432\" r=\"14.4\" fill=\"#009af9\" fill-rule=\"evenodd\" fill-opacity=\"1\" stroke=\"#000000\" stroke-opacity=\"1\" stroke-width=\"3.2\"/>\n",
       "<circle clip-path=\"url(#clip472)\" cx=\"314.156\" cy=\"1404.57\" r=\"14.4\" fill=\"#009af9\" fill-rule=\"evenodd\" fill-opacity=\"1\" stroke=\"#000000\" stroke-opacity=\"1\" stroke-width=\"3.2\"/>\n",
       "<circle clip-path=\"url(#clip472)\" cx=\"334.964\" cy=\"1432\" r=\"14.4\" fill=\"#009af9\" fill-rule=\"evenodd\" fill-opacity=\"1\" stroke=\"#000000\" stroke-opacity=\"1\" stroke-width=\"3.2\"/>\n",
       "<circle clip-path=\"url(#clip472)\" cx=\"355.773\" cy=\"1377.14\" r=\"14.4\" fill=\"#009af9\" fill-rule=\"evenodd\" fill-opacity=\"1\" stroke=\"#000000\" stroke-opacity=\"1\" stroke-width=\"3.2\"/>\n",
       "<circle clip-path=\"url(#clip472)\" cx=\"376.581\" cy=\"1404.57\" r=\"14.4\" fill=\"#009af9\" fill-rule=\"evenodd\" fill-opacity=\"1\" stroke=\"#000000\" stroke-opacity=\"1\" stroke-width=\"3.2\"/>\n",
       "<circle clip-path=\"url(#clip472)\" cx=\"397.39\" cy=\"1377.14\" r=\"14.4\" fill=\"#009af9\" fill-rule=\"evenodd\" fill-opacity=\"1\" stroke=\"#000000\" stroke-opacity=\"1\" stroke-width=\"3.2\"/>\n",
       "<circle clip-path=\"url(#clip472)\" cx=\"418.198\" cy=\"1404.57\" r=\"14.4\" fill=\"#009af9\" fill-rule=\"evenodd\" fill-opacity=\"1\" stroke=\"#000000\" stroke-opacity=\"1\" stroke-width=\"3.2\"/>\n",
       "<circle clip-path=\"url(#clip472)\" cx=\"439.006\" cy=\"1322.28\" r=\"14.4\" fill=\"#009af9\" fill-rule=\"evenodd\" fill-opacity=\"1\" stroke=\"#000000\" stroke-opacity=\"1\" stroke-width=\"3.2\"/>\n",
       "<circle clip-path=\"url(#clip472)\" cx=\"459.815\" cy=\"1404.57\" r=\"14.4\" fill=\"#009af9\" fill-rule=\"evenodd\" fill-opacity=\"1\" stroke=\"#000000\" stroke-opacity=\"1\" stroke-width=\"3.2\"/>\n",
       "<circle clip-path=\"url(#clip472)\" cx=\"480.623\" cy=\"1294.86\" r=\"14.4\" fill=\"#009af9\" fill-rule=\"evenodd\" fill-opacity=\"1\" stroke=\"#000000\" stroke-opacity=\"1\" stroke-width=\"3.2\"/>\n",
       "<circle clip-path=\"url(#clip472)\" cx=\"501.432\" cy=\"1377.14\" r=\"14.4\" fill=\"#009af9\" fill-rule=\"evenodd\" fill-opacity=\"1\" stroke=\"#000000\" stroke-opacity=\"1\" stroke-width=\"3.2\"/>\n",
       "<circle clip-path=\"url(#clip472)\" cx=\"522.24\" cy=\"1349.71\" r=\"14.4\" fill=\"#009af9\" fill-rule=\"evenodd\" fill-opacity=\"1\" stroke=\"#000000\" stroke-opacity=\"1\" stroke-width=\"3.2\"/>\n",
       "<circle clip-path=\"url(#clip472)\" cx=\"543.048\" cy=\"1349.71\" r=\"14.4\" fill=\"#009af9\" fill-rule=\"evenodd\" fill-opacity=\"1\" stroke=\"#000000\" stroke-opacity=\"1\" stroke-width=\"3.2\"/>\n",
       "<circle clip-path=\"url(#clip472)\" cx=\"563.857\" cy=\"1240\" r=\"14.4\" fill=\"#009af9\" fill-rule=\"evenodd\" fill-opacity=\"1\" stroke=\"#000000\" stroke-opacity=\"1\" stroke-width=\"3.2\"/>\n",
       "<circle clip-path=\"url(#clip472)\" cx=\"584.665\" cy=\"1377.14\" r=\"14.4\" fill=\"#009af9\" fill-rule=\"evenodd\" fill-opacity=\"1\" stroke=\"#000000\" stroke-opacity=\"1\" stroke-width=\"3.2\"/>\n",
       "<circle clip-path=\"url(#clip472)\" cx=\"605.474\" cy=\"1212.57\" r=\"14.4\" fill=\"#009af9\" fill-rule=\"evenodd\" fill-opacity=\"1\" stroke=\"#000000\" stroke-opacity=\"1\" stroke-width=\"3.2\"/>\n",
       "<circle clip-path=\"url(#clip472)\" cx=\"626.282\" cy=\"1349.71\" r=\"14.4\" fill=\"#009af9\" fill-rule=\"evenodd\" fill-opacity=\"1\" stroke=\"#000000\" stroke-opacity=\"1\" stroke-width=\"3.2\"/>\n",
       "<circle clip-path=\"url(#clip472)\" cx=\"647.091\" cy=\"1294.86\" r=\"14.4\" fill=\"#009af9\" fill-rule=\"evenodd\" fill-opacity=\"1\" stroke=\"#000000\" stroke-opacity=\"1\" stroke-width=\"3.2\"/>\n",
       "<circle clip-path=\"url(#clip472)\" cx=\"667.899\" cy=\"1322.28\" r=\"14.4\" fill=\"#009af9\" fill-rule=\"evenodd\" fill-opacity=\"1\" stroke=\"#000000\" stroke-opacity=\"1\" stroke-width=\"3.2\"/>\n",
       "<circle clip-path=\"url(#clip472)\" cx=\"688.707\" cy=\"1157.71\" r=\"14.4\" fill=\"#009af9\" fill-rule=\"evenodd\" fill-opacity=\"1\" stroke=\"#000000\" stroke-opacity=\"1\" stroke-width=\"3.2\"/>\n",
       "<circle clip-path=\"url(#clip472)\" cx=\"709.516\" cy=\"1349.71\" r=\"14.4\" fill=\"#009af9\" fill-rule=\"evenodd\" fill-opacity=\"1\" stroke=\"#000000\" stroke-opacity=\"1\" stroke-width=\"3.2\"/>\n",
       "<circle clip-path=\"url(#clip472)\" cx=\"730.324\" cy=\"1185.14\" r=\"14.4\" fill=\"#009af9\" fill-rule=\"evenodd\" fill-opacity=\"1\" stroke=\"#000000\" stroke-opacity=\"1\" stroke-width=\"3.2\"/>\n",
       "<circle clip-path=\"url(#clip472)\" cx=\"751.133\" cy=\"1294.86\" r=\"14.4\" fill=\"#009af9\" fill-rule=\"evenodd\" fill-opacity=\"1\" stroke=\"#000000\" stroke-opacity=\"1\" stroke-width=\"3.2\"/>\n",
       "<circle clip-path=\"url(#clip472)\" cx=\"771.941\" cy=\"1212.57\" r=\"14.4\" fill=\"#009af9\" fill-rule=\"evenodd\" fill-opacity=\"1\" stroke=\"#000000\" stroke-opacity=\"1\" stroke-width=\"3.2\"/>\n",
       "<circle clip-path=\"url(#clip472)\" cx=\"792.749\" cy=\"1294.86\" r=\"14.4\" fill=\"#009af9\" fill-rule=\"evenodd\" fill-opacity=\"1\" stroke=\"#000000\" stroke-opacity=\"1\" stroke-width=\"3.2\"/>\n",
       "<circle clip-path=\"url(#clip472)\" cx=\"813.558\" cy=\"1075.42\" r=\"14.4\" fill=\"#009af9\" fill-rule=\"evenodd\" fill-opacity=\"1\" stroke=\"#000000\" stroke-opacity=\"1\" stroke-width=\"3.2\"/>\n",
       "<circle clip-path=\"url(#clip472)\" cx=\"834.366\" cy=\"1349.71\" r=\"14.4\" fill=\"#009af9\" fill-rule=\"evenodd\" fill-opacity=\"1\" stroke=\"#000000\" stroke-opacity=\"1\" stroke-width=\"3.2\"/>\n",
       "<circle clip-path=\"url(#clip472)\" cx=\"855.175\" cy=\"1047.99\" r=\"14.4\" fill=\"#009af9\" fill-rule=\"evenodd\" fill-opacity=\"1\" stroke=\"#000000\" stroke-opacity=\"1\" stroke-width=\"3.2\"/>\n",
       "<circle clip-path=\"url(#clip472)\" cx=\"875.983\" cy=\"1240\" r=\"14.4\" fill=\"#009af9\" fill-rule=\"evenodd\" fill-opacity=\"1\" stroke=\"#000000\" stroke-opacity=\"1\" stroke-width=\"3.2\"/>\n",
       "<circle clip-path=\"url(#clip472)\" cx=\"896.791\" cy=\"1185.14\" r=\"14.4\" fill=\"#009af9\" fill-rule=\"evenodd\" fill-opacity=\"1\" stroke=\"#000000\" stroke-opacity=\"1\" stroke-width=\"3.2\"/>\n",
       "<circle clip-path=\"url(#clip472)\" cx=\"917.6\" cy=\"1240\" r=\"14.4\" fill=\"#009af9\" fill-rule=\"evenodd\" fill-opacity=\"1\" stroke=\"#000000\" stroke-opacity=\"1\" stroke-width=\"3.2\"/>\n",
       "<circle clip-path=\"url(#clip472)\" cx=\"938.408\" cy=\"1130.28\" r=\"14.4\" fill=\"#009af9\" fill-rule=\"evenodd\" fill-opacity=\"1\" stroke=\"#000000\" stroke-opacity=\"1\" stroke-width=\"3.2\"/>\n",
       "<circle clip-path=\"url(#clip472)\" cx=\"959.217\" cy=\"1294.86\" r=\"14.4\" fill=\"#009af9\" fill-rule=\"evenodd\" fill-opacity=\"1\" stroke=\"#000000\" stroke-opacity=\"1\" stroke-width=\"3.2\"/>\n",
       "<circle clip-path=\"url(#clip472)\" cx=\"980.025\" cy=\"965.707\" r=\"14.4\" fill=\"#009af9\" fill-rule=\"evenodd\" fill-opacity=\"1\" stroke=\"#000000\" stroke-opacity=\"1\" stroke-width=\"3.2\"/>\n",
       "<circle clip-path=\"url(#clip472)\" cx=\"1000.83\" cy=\"1212.57\" r=\"14.4\" fill=\"#009af9\" fill-rule=\"evenodd\" fill-opacity=\"1\" stroke=\"#000000\" stroke-opacity=\"1\" stroke-width=\"3.2\"/>\n",
       "<circle clip-path=\"url(#clip472)\" cx=\"1021.64\" cy=\"1130.28\" r=\"14.4\" fill=\"#009af9\" fill-rule=\"evenodd\" fill-opacity=\"1\" stroke=\"#000000\" stroke-opacity=\"1\" stroke-width=\"3.2\"/>\n",
       "<circle clip-path=\"url(#clip472)\" cx=\"1042.45\" cy=\"1240\" r=\"14.4\" fill=\"#009af9\" fill-rule=\"evenodd\" fill-opacity=\"1\" stroke=\"#000000\" stroke-opacity=\"1\" stroke-width=\"3.2\"/>\n",
       "<circle clip-path=\"url(#clip472)\" cx=\"1063.26\" cy=\"910.849\" r=\"14.4\" fill=\"#009af9\" fill-rule=\"evenodd\" fill-opacity=\"1\" stroke=\"#000000\" stroke-opacity=\"1\" stroke-width=\"3.2\"/>\n",
       "<circle clip-path=\"url(#clip472)\" cx=\"1084.07\" cy=\"1294.86\" r=\"14.4\" fill=\"#009af9\" fill-rule=\"evenodd\" fill-opacity=\"1\" stroke=\"#000000\" stroke-opacity=\"1\" stroke-width=\"3.2\"/>\n",
       "<circle clip-path=\"url(#clip472)\" cx=\"1104.88\" cy=\"883.42\" r=\"14.4\" fill=\"#009af9\" fill-rule=\"evenodd\" fill-opacity=\"1\" stroke=\"#000000\" stroke-opacity=\"1\" stroke-width=\"3.2\"/>\n",
       "<circle clip-path=\"url(#clip472)\" cx=\"1125.68\" cy=\"1185.14\" r=\"14.4\" fill=\"#009af9\" fill-rule=\"evenodd\" fill-opacity=\"1\" stroke=\"#000000\" stroke-opacity=\"1\" stroke-width=\"3.2\"/>\n",
       "<circle clip-path=\"url(#clip472)\" cx=\"1146.49\" cy=\"1130.28\" r=\"14.4\" fill=\"#009af9\" fill-rule=\"evenodd\" fill-opacity=\"1\" stroke=\"#000000\" stroke-opacity=\"1\" stroke-width=\"3.2\"/>\n",
       "<circle clip-path=\"url(#clip472)\" cx=\"1167.3\" cy=\"1157.71\" r=\"14.4\" fill=\"#009af9\" fill-rule=\"evenodd\" fill-opacity=\"1\" stroke=\"#000000\" stroke-opacity=\"1\" stroke-width=\"3.2\"/>\n",
       "<circle clip-path=\"url(#clip472)\" cx=\"1188.11\" cy=\"828.561\" r=\"14.4\" fill=\"#009af9\" fill-rule=\"evenodd\" fill-opacity=\"1\" stroke=\"#000000\" stroke-opacity=\"1\" stroke-width=\"3.2\"/>\n",
       "<circle clip-path=\"url(#clip472)\" cx=\"1208.92\" cy=\"1240\" r=\"14.4\" fill=\"#009af9\" fill-rule=\"evenodd\" fill-opacity=\"1\" stroke=\"#000000\" stroke-opacity=\"1\" stroke-width=\"3.2\"/>\n",
       "<circle clip-path=\"url(#clip472)\" cx=\"1229.73\" cy=\"883.42\" r=\"14.4\" fill=\"#009af9\" fill-rule=\"evenodd\" fill-opacity=\"1\" stroke=\"#000000\" stroke-opacity=\"1\" stroke-width=\"3.2\"/>\n",
       "<circle clip-path=\"url(#clip472)\" cx=\"1250.53\" cy=\"1185.14\" r=\"14.4\" fill=\"#009af9\" fill-rule=\"evenodd\" fill-opacity=\"1\" stroke=\"#000000\" stroke-opacity=\"1\" stroke-width=\"3.2\"/>\n",
       "<circle clip-path=\"url(#clip472)\" cx=\"1271.34\" cy=\"1020.56\" r=\"14.4\" fill=\"#009af9\" fill-rule=\"evenodd\" fill-opacity=\"1\" stroke=\"#000000\" stroke-opacity=\"1\" stroke-width=\"3.2\"/>\n",
       "<circle clip-path=\"url(#clip472)\" cx=\"1292.15\" cy=\"1130.28\" r=\"14.4\" fill=\"#009af9\" fill-rule=\"evenodd\" fill-opacity=\"1\" stroke=\"#000000\" stroke-opacity=\"1\" stroke-width=\"3.2\"/>\n",
       "<circle clip-path=\"url(#clip472)\" cx=\"1312.96\" cy=\"746.274\" r=\"14.4\" fill=\"#009af9\" fill-rule=\"evenodd\" fill-opacity=\"1\" stroke=\"#000000\" stroke-opacity=\"1\" stroke-width=\"3.2\"/>\n",
       "<circle clip-path=\"url(#clip472)\" cx=\"1333.77\" cy=\"1212.57\" r=\"14.4\" fill=\"#009af9\" fill-rule=\"evenodd\" fill-opacity=\"1\" stroke=\"#000000\" stroke-opacity=\"1\" stroke-width=\"3.2\"/>\n",
       "<circle clip-path=\"url(#clip472)\" cx=\"1354.58\" cy=\"910.849\" r=\"14.4\" fill=\"#009af9\" fill-rule=\"evenodd\" fill-opacity=\"1\" stroke=\"#000000\" stroke-opacity=\"1\" stroke-width=\"3.2\"/>\n",
       "<circle clip-path=\"url(#clip472)\" cx=\"1375.38\" cy=\"1130.28\" r=\"14.4\" fill=\"#009af9\" fill-rule=\"evenodd\" fill-opacity=\"1\" stroke=\"#000000\" stroke-opacity=\"1\" stroke-width=\"3.2\"/>\n",
       "<circle clip-path=\"url(#clip472)\" cx=\"1396.19\" cy=\"965.707\" r=\"14.4\" fill=\"#009af9\" fill-rule=\"evenodd\" fill-opacity=\"1\" stroke=\"#000000\" stroke-opacity=\"1\" stroke-width=\"3.2\"/>\n",
       "<circle clip-path=\"url(#clip472)\" cx=\"1417\" cy=\"1075.42\" r=\"14.4\" fill=\"#009af9\" fill-rule=\"evenodd\" fill-opacity=\"1\" stroke=\"#000000\" stroke-opacity=\"1\" stroke-width=\"3.2\"/>\n",
       "<circle clip-path=\"url(#clip472)\" cx=\"1437.81\" cy=\"663.987\" r=\"14.4\" fill=\"#009af9\" fill-rule=\"evenodd\" fill-opacity=\"1\" stroke=\"#000000\" stroke-opacity=\"1\" stroke-width=\"3.2\"/>\n",
       "<circle clip-path=\"url(#clip472)\" cx=\"1458.62\" cy=\"1240\" r=\"14.4\" fill=\"#009af9\" fill-rule=\"evenodd\" fill-opacity=\"1\" stroke=\"#000000\" stroke-opacity=\"1\" stroke-width=\"3.2\"/>\n",
       "<circle clip-path=\"url(#clip472)\" cx=\"1479.43\" cy=\"636.558\" r=\"14.4\" fill=\"#009af9\" fill-rule=\"evenodd\" fill-opacity=\"1\" stroke=\"#000000\" stroke-opacity=\"1\" stroke-width=\"3.2\"/>\n",
       "<circle clip-path=\"url(#clip472)\" cx=\"1500.24\" cy=\"1047.99\" r=\"14.4\" fill=\"#009af9\" fill-rule=\"evenodd\" fill-opacity=\"1\" stroke=\"#000000\" stroke-opacity=\"1\" stroke-width=\"3.2\"/>\n",
       "<circle clip-path=\"url(#clip472)\" cx=\"1521.04\" cy=\"965.707\" r=\"14.4\" fill=\"#009af9\" fill-rule=\"evenodd\" fill-opacity=\"1\" stroke=\"#000000\" stroke-opacity=\"1\" stroke-width=\"3.2\"/>\n",
       "<circle clip-path=\"url(#clip472)\" cx=\"1541.85\" cy=\"1020.56\" r=\"14.4\" fill=\"#009af9\" fill-rule=\"evenodd\" fill-opacity=\"1\" stroke=\"#000000\" stroke-opacity=\"1\" stroke-width=\"3.2\"/>\n",
       "<circle clip-path=\"url(#clip472)\" cx=\"1562.66\" cy=\"801.132\" r=\"14.4\" fill=\"#009af9\" fill-rule=\"evenodd\" fill-opacity=\"1\" stroke=\"#000000\" stroke-opacity=\"1\" stroke-width=\"3.2\"/>\n",
       "<circle clip-path=\"url(#clip472)\" cx=\"1583.47\" cy=\"1185.14\" r=\"14.4\" fill=\"#009af9\" fill-rule=\"evenodd\" fill-opacity=\"1\" stroke=\"#000000\" stroke-opacity=\"1\" stroke-width=\"3.2\"/>\n",
       "<circle clip-path=\"url(#clip472)\" cx=\"1604.28\" cy=\"554.271\" r=\"14.4\" fill=\"#009af9\" fill-rule=\"evenodd\" fill-opacity=\"1\" stroke=\"#000000\" stroke-opacity=\"1\" stroke-width=\"3.2\"/>\n",
       "<circle clip-path=\"url(#clip472)\" cx=\"1625.09\" cy=\"1020.56\" r=\"14.4\" fill=\"#009af9\" fill-rule=\"evenodd\" fill-opacity=\"1\" stroke=\"#000000\" stroke-opacity=\"1\" stroke-width=\"3.2\"/>\n",
       "<circle clip-path=\"url(#clip472)\" cx=\"1645.89\" cy=\"855.99\" r=\"14.4\" fill=\"#009af9\" fill-rule=\"evenodd\" fill-opacity=\"1\" stroke=\"#000000\" stroke-opacity=\"1\" stroke-width=\"3.2\"/>\n",
       "<circle clip-path=\"url(#clip472)\" cx=\"1666.7\" cy=\"1130.28\" r=\"14.4\" fill=\"#009af9\" fill-rule=\"evenodd\" fill-opacity=\"1\" stroke=\"#000000\" stroke-opacity=\"1\" stroke-width=\"3.2\"/>\n",
       "<circle clip-path=\"url(#clip472)\" cx=\"1687.51\" cy=\"499.412\" r=\"14.4\" fill=\"#009af9\" fill-rule=\"evenodd\" fill-opacity=\"1\" stroke=\"#000000\" stroke-opacity=\"1\" stroke-width=\"3.2\"/>\n",
       "<circle clip-path=\"url(#clip472)\" cx=\"1708.32\" cy=\"1130.28\" r=\"14.4\" fill=\"#009af9\" fill-rule=\"evenodd\" fill-opacity=\"1\" stroke=\"#000000\" stroke-opacity=\"1\" stroke-width=\"3.2\"/>\n",
       "<circle clip-path=\"url(#clip472)\" cx=\"1729.13\" cy=\"471.983\" r=\"14.4\" fill=\"#009af9\" fill-rule=\"evenodd\" fill-opacity=\"1\" stroke=\"#000000\" stroke-opacity=\"1\" stroke-width=\"3.2\"/>\n",
       "<circle clip-path=\"url(#clip472)\" cx=\"1749.94\" cy=\"965.707\" r=\"14.4\" fill=\"#009af9\" fill-rule=\"evenodd\" fill-opacity=\"1\" stroke=\"#000000\" stroke-opacity=\"1\" stroke-width=\"3.2\"/>\n",
       "<circle clip-path=\"url(#clip472)\" cx=\"1770.74\" cy=\"910.849\" r=\"14.4\" fill=\"#009af9\" fill-rule=\"evenodd\" fill-opacity=\"1\" stroke=\"#000000\" stroke-opacity=\"1\" stroke-width=\"3.2\"/>\n",
       "<circle clip-path=\"url(#clip472)\" cx=\"1791.55\" cy=\"965.707\" r=\"14.4\" fill=\"#009af9\" fill-rule=\"evenodd\" fill-opacity=\"1\" stroke=\"#000000\" stroke-opacity=\"1\" stroke-width=\"3.2\"/>\n",
       "<circle clip-path=\"url(#clip472)\" cx=\"1812.36\" cy=\"636.558\" r=\"14.4\" fill=\"#009af9\" fill-rule=\"evenodd\" fill-opacity=\"1\" stroke=\"#000000\" stroke-opacity=\"1\" stroke-width=\"3.2\"/>\n",
       "<circle clip-path=\"url(#clip472)\" cx=\"1833.17\" cy=\"1130.28\" r=\"14.4\" fill=\"#009af9\" fill-rule=\"evenodd\" fill-opacity=\"1\" stroke=\"#000000\" stroke-opacity=\"1\" stroke-width=\"3.2\"/>\n",
       "<circle clip-path=\"url(#clip472)\" cx=\"1853.98\" cy=\"389.696\" r=\"14.4\" fill=\"#009af9\" fill-rule=\"evenodd\" fill-opacity=\"1\" stroke=\"#000000\" stroke-opacity=\"1\" stroke-width=\"3.2\"/>\n",
       "<circle clip-path=\"url(#clip472)\" cx=\"1874.79\" cy=\"1020.56\" r=\"14.4\" fill=\"#009af9\" fill-rule=\"evenodd\" fill-opacity=\"1\" stroke=\"#000000\" stroke-opacity=\"1\" stroke-width=\"3.2\"/>\n",
       "<circle clip-path=\"url(#clip472)\" cx=\"1895.6\" cy=\"718.845\" r=\"14.4\" fill=\"#009af9\" fill-rule=\"evenodd\" fill-opacity=\"1\" stroke=\"#000000\" stroke-opacity=\"1\" stroke-width=\"3.2\"/>\n",
       "<circle clip-path=\"url(#clip472)\" cx=\"1916.4\" cy=\"910.849\" r=\"14.4\" fill=\"#009af9\" fill-rule=\"evenodd\" fill-opacity=\"1\" stroke=\"#000000\" stroke-opacity=\"1\" stroke-width=\"3.2\"/>\n",
       "<circle clip-path=\"url(#clip472)\" cx=\"1937.21\" cy=\"334.838\" r=\"14.4\" fill=\"#009af9\" fill-rule=\"evenodd\" fill-opacity=\"1\" stroke=\"#000000\" stroke-opacity=\"1\" stroke-width=\"3.2\"/>\n",
       "<circle clip-path=\"url(#clip472)\" cx=\"1958.02\" cy=\"1130.28\" r=\"14.4\" fill=\"#009af9\" fill-rule=\"evenodd\" fill-opacity=\"1\" stroke=\"#000000\" stroke-opacity=\"1\" stroke-width=\"3.2\"/>\n",
       "<circle clip-path=\"url(#clip472)\" cx=\"1978.83\" cy=\"581.7\" r=\"14.4\" fill=\"#009af9\" fill-rule=\"evenodd\" fill-opacity=\"1\" stroke=\"#000000\" stroke-opacity=\"1\" stroke-width=\"3.2\"/>\n",
       "<circle clip-path=\"url(#clip472)\" cx=\"1999.64\" cy=\"883.42\" r=\"14.4\" fill=\"#009af9\" fill-rule=\"evenodd\" fill-opacity=\"1\" stroke=\"#000000\" stroke-opacity=\"1\" stroke-width=\"3.2\"/>\n",
       "<circle clip-path=\"url(#clip472)\" cx=\"2020.45\" cy=\"691.416\" r=\"14.4\" fill=\"#009af9\" fill-rule=\"evenodd\" fill-opacity=\"1\" stroke=\"#000000\" stroke-opacity=\"1\" stroke-width=\"3.2\"/>\n",
       "<circle clip-path=\"url(#clip472)\" cx=\"2041.25\" cy=\"910.849\" r=\"14.4\" fill=\"#009af9\" fill-rule=\"evenodd\" fill-opacity=\"1\" stroke=\"#000000\" stroke-opacity=\"1\" stroke-width=\"3.2\"/>\n",
       "<circle clip-path=\"url(#clip472)\" cx=\"2062.06\" cy=\"252.551\" r=\"14.4\" fill=\"#009af9\" fill-rule=\"evenodd\" fill-opacity=\"1\" stroke=\"#000000\" stroke-opacity=\"1\" stroke-width=\"3.2\"/>\n",
       "<circle clip-path=\"url(#clip472)\" cx=\"2082.87\" cy=\"1130.28\" r=\"14.4\" fill=\"#009af9\" fill-rule=\"evenodd\" fill-opacity=\"1\" stroke=\"#000000\" stroke-opacity=\"1\" stroke-width=\"3.2\"/>\n",
       "<circle clip-path=\"url(#clip472)\" cx=\"2103.68\" cy=\"471.983\" r=\"14.4\" fill=\"#009af9\" fill-rule=\"evenodd\" fill-opacity=\"1\" stroke=\"#000000\" stroke-opacity=\"1\" stroke-width=\"3.2\"/>\n",
       "<circle clip-path=\"url(#clip472)\" cx=\"2124.49\" cy=\"855.99\" r=\"14.4\" fill=\"#009af9\" fill-rule=\"evenodd\" fill-opacity=\"1\" stroke=\"#000000\" stroke-opacity=\"1\" stroke-width=\"3.2\"/>\n",
       "<circle clip-path=\"url(#clip472)\" cx=\"2145.3\" cy=\"636.558\" r=\"14.4\" fill=\"#009af9\" fill-rule=\"evenodd\" fill-opacity=\"1\" stroke=\"#000000\" stroke-opacity=\"1\" stroke-width=\"3.2\"/>\n",
       "<circle clip-path=\"url(#clip472)\" cx=\"2166.1\" cy=\"828.561\" r=\"14.4\" fill=\"#009af9\" fill-rule=\"evenodd\" fill-opacity=\"1\" stroke=\"#000000\" stroke-opacity=\"1\" stroke-width=\"3.2\"/>\n",
       "<circle clip-path=\"url(#clip472)\" cx=\"2186.91\" cy=\"471.983\" r=\"14.4\" fill=\"#009af9\" fill-rule=\"evenodd\" fill-opacity=\"1\" stroke=\"#000000\" stroke-opacity=\"1\" stroke-width=\"3.2\"/>\n",
       "<circle clip-path=\"url(#clip472)\" cx=\"2207.72\" cy=\"1020.56\" r=\"14.4\" fill=\"#009af9\" fill-rule=\"evenodd\" fill-opacity=\"1\" stroke=\"#000000\" stroke-opacity=\"1\" stroke-width=\"3.2\"/>\n",
       "<circle clip-path=\"url(#clip472)\" cx=\"2228.53\" cy=\"142.834\" r=\"14.4\" fill=\"#009af9\" fill-rule=\"evenodd\" fill-opacity=\"1\" stroke=\"#000000\" stroke-opacity=\"1\" stroke-width=\"3.2\"/>\n",
       "<circle clip-path=\"url(#clip472)\" cx=\"2249.34\" cy=\"883.42\" r=\"14.4\" fill=\"#009af9\" fill-rule=\"evenodd\" fill-opacity=\"1\" stroke=\"#000000\" stroke-opacity=\"1\" stroke-width=\"3.2\"/>\n",
       "<circle clip-path=\"url(#clip472)\" cx=\"2270.15\" cy=\"636.558\" r=\"14.4\" fill=\"#009af9\" fill-rule=\"evenodd\" fill-opacity=\"1\" stroke=\"#000000\" stroke-opacity=\"1\" stroke-width=\"3.2\"/>\n",
       "<circle clip-path=\"url(#clip472)\" cx=\"2290.95\" cy=\"910.849\" r=\"14.4\" fill=\"#009af9\" fill-rule=\"evenodd\" fill-opacity=\"1\" stroke=\"#000000\" stroke-opacity=\"1\" stroke-width=\"3.2\"/>\n",
       "<polyline clip-path=\"url(#clip472)\" style=\"stroke:#e26f46; stroke-linecap:round; stroke-linejoin:round; stroke-width:4; stroke-opacity:1; fill:none\" points=\"\n",
       "  230.922,1445.72 251.731,1432 272.539,1418.29 293.348,1404.57 314.156,1390.86 334.964,1377.14 355.773,1363.43 376.581,1349.71 397.39,1336 418.198,1322.28 \n",
       "  439.006,1308.57 459.815,1294.86 480.623,1281.14 501.432,1267.43 522.24,1253.71 543.048,1240 563.857,1226.28 584.665,1212.57 605.474,1198.85 626.282,1185.14 \n",
       "  647.091,1171.42 667.899,1157.71 688.707,1144 709.516,1130.28 730.324,1116.57 751.133,1102.85 771.941,1089.14 792.749,1075.42 813.558,1061.71 834.366,1047.99 \n",
       "  855.175,1034.28 875.983,1020.56 896.791,1006.85 917.6,993.136 938.408,979.421 959.217,965.707 980.025,951.992 1000.83,938.278 1021.64,924.563 1042.45,910.849 \n",
       "  1063.26,897.134 1084.07,883.42 1104.88,869.705 1125.68,855.99 1146.49,842.276 1167.3,828.561 1188.11,814.847 1208.92,801.132 1229.73,787.418 1250.53,773.703 \n",
       "  1271.34,759.989 1292.15,746.274 1312.96,732.56 1333.77,718.845 1354.58,705.131 1375.38,691.416 1396.19,677.701 1417,663.987 1437.81,650.272 1458.62,636.558 \n",
       "  1479.43,622.843 1500.24,609.129 1521.04,595.414 1541.85,581.7 1562.66,567.985 1583.47,554.271 1604.28,540.556 1625.09,526.842 1645.89,513.127 1666.7,499.412 \n",
       "  1687.51,485.698 1708.32,471.983 1729.13,458.269 1749.94,444.554 1770.74,430.84 1791.55,417.125 1812.36,403.411 1833.17,389.696 1853.98,375.982 1874.79,362.267 \n",
       "  1895.6,348.553 1916.4,334.838 1937.21,321.123 1958.02,307.409 1978.83,293.694 1999.64,279.98 2020.45,266.265 2041.25,252.551 2062.06,238.836 2082.87,225.122 \n",
       "  2103.68,211.407 2124.49,197.693 2145.3,183.978 2166.1,170.264 2186.91,156.549 2207.72,142.834 2228.53,129.12 2249.34,115.405 2270.15,101.691 2290.95,87.9763 \n",
       "  \n",
       "  \"/>\n",
       "<path clip-path=\"url(#clip470)\" d=\"\n",
       "M1984.91 250.738 L2279.97 250.738 L2279.97 95.2176 L1984.91 95.2176  Z\n",
       "  \" fill=\"#ffffff\" fill-rule=\"evenodd\" fill-opacity=\"1\"/>\n",
       "<polyline clip-path=\"url(#clip470)\" style=\"stroke:#000000; stroke-linecap:round; stroke-linejoin:round; stroke-width:4; stroke-opacity:1; fill:none\" points=\"\n",
       "  1984.91,250.738 2279.97,250.738 2279.97,95.2176 1984.91,95.2176 1984.91,250.738 \n",
       "  \"/>\n",
       "<circle clip-path=\"url(#clip470)\" cx=\"2081.96\" cy=\"147.058\" r=\"23.04\" fill=\"#009af9\" fill-rule=\"evenodd\" fill-opacity=\"1\" stroke=\"#000000\" stroke-opacity=\"1\" stroke-width=\"5.12\"/>\n",
       "<path clip-path=\"url(#clip470)\" d=\"M2192.86 166.745 Q2191.05 171.375 2189.34 172.787 Q2187.62 174.199 2184.75 174.199 L2181.35 174.199 L2181.35 170.634 L2183.85 170.634 Q2185.61 170.634 2186.58 169.8 Q2187.55 168.967 2188.73 165.865 L2189.5 163.921 L2179.01 138.412 L2183.53 138.412 L2191.63 158.689 L2199.73 138.412 L2204.24 138.412 L2192.86 166.745 Z\" fill=\"#000000\" fill-rule=\"evenodd\" fill-opacity=\"1\" /><path clip-path=\"url(#clip470)\" d=\"M2211.54 160.402 L2219.17 160.402 L2219.17 134.037 L2210.86 135.703 L2210.86 131.444 L2219.13 129.778 L2223.8 129.778 L2223.8 160.402 L2231.44 160.402 L2231.44 164.338 L2211.54 164.338 L2211.54 160.402 Z\" fill=\"#000000\" fill-rule=\"evenodd\" fill-opacity=\"1\" /><polyline clip-path=\"url(#clip470)\" style=\"stroke:#e26f46; stroke-linecap:round; stroke-linejoin:round; stroke-width:4; stroke-opacity:1; fill:none\" points=\"\n",
       "  2009.17,198.898 2154.75,198.898 \n",
       "  \"/>\n",
       "<path clip-path=\"url(#clip470)\" d=\"M2192.86 218.585 Q2191.05 223.215 2189.34 224.627 Q2187.62 226.039 2184.75 226.039 L2181.35 226.039 L2181.35 222.474 L2183.85 222.474 Q2185.61 222.474 2186.58 221.64 Q2187.55 220.807 2188.73 217.705 L2189.5 215.761 L2179.01 190.252 L2183.53 190.252 L2191.63 210.529 L2199.73 190.252 L2204.24 190.252 L2192.86 218.585 Z\" fill=\"#000000\" fill-rule=\"evenodd\" fill-opacity=\"1\" /><path clip-path=\"url(#clip470)\" d=\"M2214.75 212.242 L2231.07 212.242 L2231.07 216.178 L2209.13 216.178 L2209.13 212.242 Q2211.79 209.488 2216.37 204.858 Q2220.98 200.205 2222.16 198.863 Q2224.41 196.34 2225.29 194.604 Q2226.19 192.844 2226.19 191.155 Q2226.19 188.4 2224.24 186.664 Q2222.32 184.928 2219.22 184.928 Q2217.02 184.928 2214.57 185.692 Q2212.14 186.455 2209.36 188.006 L2209.36 183.284 Q2212.18 182.15 2214.64 181.571 Q2217.09 180.993 2219.13 180.993 Q2224.5 180.993 2227.69 183.678 Q2230.89 186.363 2230.89 190.854 Q2230.89 192.983 2230.08 194.905 Q2229.29 196.803 2227.18 199.395 Q2226.6 200.067 2223.5 203.284 Q2220.4 206.479 2214.75 212.242 Z\" fill=\"#000000\" fill-rule=\"evenodd\" fill-opacity=\"1\" /></svg>\n"
      ]
     },
     "execution_count": 28,
     "metadata": {},
     "output_type": "execute_result"
    }
   ],
   "source": [
    "n=100\n",
    "yy = [phiE(i) for i in 1:n];\n",
    "scatter(yy)\n",
    "plot!(1:n)"
   ]
  },
  {
   "cell_type": "code",
   "execution_count": null,
   "metadata": {},
   "outputs": [],
   "source": []
  },
  {
   "cell_type": "code",
   "execution_count": null,
   "metadata": {},
   "outputs": [],
   "source": []
  },
  {
   "cell_type": "code",
   "execution_count": null,
   "metadata": {},
   "outputs": [],
   "source": []
  }
 ],
 "metadata": {
  "@webio": {
   "lastCommId": null,
   "lastKernelId": null
  },
  "kernelspec": {
   "display_name": "Julia 1.8.0",
   "language": "julia",
   "name": "julia-1.8"
  },
  "language_info": {
   "file_extension": ".jl",
   "mimetype": "application/julia",
   "name": "julia",
   "version": "1.8.0"
  }
 },
 "nbformat": 4,
 "nbformat_minor": 4
}
